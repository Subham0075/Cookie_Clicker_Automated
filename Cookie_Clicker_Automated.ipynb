{
  "nbformat": 4,
  "nbformat_minor": 0,
  "metadata": {
    "colab": {
      "provenance": [],
      "authorship_tag": "ABX9TyOYVgjiJROczyXfIyRfutM5",
      "include_colab_link": true
    },
    "kernelspec": {
      "name": "python3",
      "display_name": "Python 3"
    },
    "language_info": {
      "name": "python"
    }
  },
  "cells": [
    {
      "cell_type": "markdown",
      "metadata": {
        "id": "view-in-github",
        "colab_type": "text"
      },
      "source": [
        "<a href=\"https://colab.research.google.com/github/Subham0075/Cookie_Clicker_Automated/blob/main/Cookie_Clicker_Automated.ipynb\" target=\"_parent\"><img src=\"https://colab.research.google.com/assets/colab-badge.svg\" alt=\"Open In Colab\"/></a>"
      ]
    },
    {
      "cell_type": "code",
      "execution_count": null,
      "metadata": {
        "id": "LryDTLYGl2pf"
      },
      "outputs": [],
      "source": [
        "from selenium import webdriver\n",
        "from selenium.webdriver.common.by import By\n",
        "import time\n",
        "\n",
        "\n",
        "# Optional - Keep the browser open (helps diagnose issues if the script crashes)\n",
        "chrome_options = webdriver.ChromeOptions()\n",
        "chrome_options.add_experimental_option(\"detach\", True)\n",
        "\n",
        "driver = webdriver.Chrome(options=chrome_options)\n",
        "\n",
        "driver.get(\"http://orteil.dashnet.org/experiments/cookie/\")\n",
        "\n",
        "# Get cookie to click on.\n",
        "cookie = driver.find_element(by=By.ID, value=\"cookie\")\n",
        "\n",
        "# Get upgrade item ids.\n",
        "items = driver.find_elements(by=By.CSS_SELECTOR, value=\"#store div\")\n",
        "item_ids = [item.get_attribute(\"id\") for item in items]\n",
        "\n",
        "timeout = time.time() + 5\n",
        "five_min = time.time() + 60*5  # 5 minutes\n",
        "\n",
        "while True:\n",
        "    cookie.click()\n",
        "\n",
        "    # Every 5 seconds:\n",
        "    if time.time() > timeout:\n",
        "\n",
        "        # Get all upgrade <b> tags\n",
        "        all_prices = driver.find_elements(by=By.CSS_SELECTOR, value=\"#store b\")\n",
        "        item_prices = []\n",
        "\n",
        "        # Convert <b> text into an integer price.\n",
        "        for price in all_prices:\n",
        "            element_text = price.text\n",
        "            if element_text != \"\":\n",
        "                cost = int(element_text.split(\"-\")[1].strip().replace(\",\", \"\"))\n",
        "                item_prices.append(cost)\n",
        "\n",
        "        # Create dictionary of store items and prices\n",
        "        cookie_upgrades = {}\n",
        "        for n in range(len(item_prices)):\n",
        "            cookie_upgrades[item_prices[n]] = item_ids[n]\n",
        "\n",
        "        # Get current cookie count\n",
        "        money_element = driver.find_element(by=By.ID, value=\"money\").text\n",
        "        if \",\" in money_element:\n",
        "            money_element = money_element.replace(\",\", \"\")\n",
        "        cookie_count = int(money_element)\n",
        "\n",
        "        # Find upgrades that we can currently afford\n",
        "        affordable_upgrades = {}\n",
        "        for cost, id in cookie_upgrades.items():\n",
        "            if cookie_count > cost:\n",
        "                affordable_upgrades[cost] = id\n",
        "\n",
        "        # Purchase the most expensive affordable upgrade\n",
        "        highest_price_affordable_upgrade = max(affordable_upgrades)\n",
        "        print(highest_price_affordable_upgrade)\n",
        "        to_purchase_id = affordable_upgrades[highest_price_affordable_upgrade]\n",
        "\n",
        "        driver.find_element(by=By.ID, value=to_purchase_id).click()\n",
        "\n",
        "        # Add another 5 seconds until the next check\n",
        "        timeout = time.time() + 5\n",
        "\n",
        "    # After 5 minutes stop the bot and check the cookies per second count.\n",
        "    if time.time() > five_min:\n",
        "        cookie_per_s = driver.find_element(by=By.ID, value=\"cps\").text\n",
        "        print(cookie_per_s)\n",
        "        break"
      ]
    }
  ]
}